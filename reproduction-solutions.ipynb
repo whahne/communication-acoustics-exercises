{
 "cells": [
  {
   "cell_type": "markdown",
   "metadata": {},
   "source": [
    "[exercises](reproduction.ipynb)"
   ]
  },
  {
   "cell_type": "code",
   "execution_count": null,
   "metadata": {},
   "outputs": [],
   "source": [
    "%matplotlib inline\n",
    "import matplotlib.pyplot as plt\n",
    "import numpy as np\n",
    "import sfs"
   ]
  },
  {
   "cell_type": "code",
   "execution_count": null,
   "metadata": {},
   "outputs": [],
   "source": [
    "grid = sfs.util.xyz_grid([-2, 2], [-2, 2], 0, spacing=0.02)"
   ]
  },
  {
   "cell_type": "code",
   "execution_count": null,
   "metadata": {},
   "outputs": [],
   "source": [
    "x0 = 0, 1.5, 0\n",
    "f = 1000  # Hz\n",
    "omega = 2 * np.pi * f"
   ]
  },
  {
   "cell_type": "code",
   "execution_count": null,
   "metadata": {},
   "outputs": [],
   "source": [
    "p_point = sfs.fd.source.point(omega, x0, grid)\n",
    "p_point *= 4 * np.pi\n",
    "sfs.plot2d.amplitude(p_point, grid)\n",
    "plt.title(\"Point Source at {} m\".format(x0));"
   ]
  },
  {
   "cell_type": "code",
   "execution_count": null,
   "metadata": {},
   "outputs": [],
   "source": [
    "x0 = 0, 1.5\n",
    "f = 1000  # Hz\n",
    "omega = 2 * np.pi * f"
   ]
  },
  {
   "cell_type": "code",
   "execution_count": null,
   "metadata": {},
   "outputs": [],
   "source": [
    "p_line = sfs.fd.source.line(omega, x0, grid)\n",
    "p_line *= np.sqrt(8 * np.pi * omega / sfs.default.c) * np.exp(1j * np.pi / 4)\n",
    "sfs.plot2d.amplitude(p_line, grid)\n",
    "plt.title(\"Line Source at {} m\".format(x0[:2]));"
   ]
  },
  {
   "cell_type": "markdown",
   "metadata": {},
   "source": [
    "Difference between point source and line source:\n",
    "When doubling the distance, the sound level of a ...\n",
    "\n",
    "* ... point source is attenuated by 6 dB\n",
    "\n",
    "* ... line source is attenuated by 3 dB"
   ]
  },
  {
   "cell_type": "code",
   "execution_count": null,
   "metadata": {},
   "outputs": [],
   "source": [
    "x0 = 0, 1.5, 0\n",
    "n0 = 0, -1, 0\n",
    "f = 1000  # Hz\n",
    "omega = 2 * np.pi * f"
   ]
  },
  {
   "cell_type": "code",
   "execution_count": null,
   "metadata": {},
   "outputs": [],
   "source": [
    "p_plane = sfs.fd.source.plane(omega, x0, n0, grid)\n",
    "sfs.plot2d.amplitude(p_plane, grid);\n",
    "plt.title(\"Plane wave with $n_0 =$ {}\".format(n0));"
   ]
  },
  {
   "cell_type": "markdown",
   "metadata": {},
   "source": [
    "From this snapshot, it's not possible to recognize if the plane wave is travelling up or down.\n",
    "One would need an animation of some kind to see the direction of propagation (this was a trick question!).\n",
    "\n",
    "The level doesn't decay over distance (another trick question!)."
   ]
  },
  {
   "cell_type": "code",
   "execution_count": null,
   "metadata": {},
   "outputs": [],
   "source": [
    "def plot_stereo(f, weights=[1,1]):\n",
    "    \"\"\"Plot a monochromatic stereo sound field.\n",
    "    \n",
    "    f: frequency in Hz\n",
    "    \"\"\"\n",
    "    omega = 2 * np.pi * f\n",
    "    \n",
    "    x0_1 = [-0.866, 1.5, 0]\n",
    "    x0_2 = [0.866, 1.5, 0]\n",
    "    \n",
    "    scaling_factor_point_source = 4 * np.pi\n",
    "    weights = np.asarray(weights) * scaling_factor_point_source\n",
    "    grid = sfs.util.xyz_grid([-2, 2], [-2, 2], 0, spacing=0.02)\n",
    "    \n",
    "    p_1 = weights[0] * sfs.fd.source.point(omega, x0_1, grid)\n",
    "    p_2 = weights[1] * sfs.fd.source.point(omega, x0_2, grid)\n",
    "    sfs.plot2d.amplitude(p_1+p_2, grid)\n",
    "    # plt.title(\"2 Point Sources for Stereo\")"
   ]
  },
  {
   "cell_type": "code",
   "execution_count": null,
   "metadata": {},
   "outputs": [],
   "source": [
    "plot_stereo(1000)"
   ]
  },
  {
   "cell_type": "markdown",
   "metadata": {},
   "source": [
    "If the weighting factors are equal, the phantom source is halfway between the two loudspeakers."
   ]
  },
  {
   "cell_type": "markdown",
   "metadata": {},
   "source": [
    "*intensity* stereophony: level difference $\\frac{A_1}{A_2} = 10^\\left(\\frac{6}{20}\\right)$"
   ]
  },
  {
   "cell_type": "code",
   "execution_count": null,
   "metadata": {},
   "outputs": [],
   "source": [
    "plt.figure(figsize=(12,5))\n",
    "\n",
    "plt.subplot(121)\n",
    "plot_stereo(1000, [10**(6/20),1])\n",
    "plt.title('intensity stereophony $6\\,$dB');\n",
    "\n",
    "plt.subplot(122)\n",
    "plot_stereo(1000, [1,1])\n",
    "plt.title('intensity stereophony $0\\,$dB');"
   ]
  },
  {
   "cell_type": "markdown",
   "metadata": {},
   "source": [
    "*time-of-arrival* stereophony: Change of the phase of a complex wave with $e^{\\text{j}\\phi}$. \n",
    "\n",
    "Most visible effect at $\\phi=\\omega \\frac{T}{2}$. But since it is a psychoacoustical effect you cannot see the direction of the phantom source in the sound field."
   ]
  },
  {
   "cell_type": "code",
   "execution_count": null,
   "metadata": {},
   "outputs": [],
   "source": [
    "f = 1000\n",
    "omega = 2 * np.pi * f\n",
    "\n",
    "plt.figure(figsize=(12,5))\n",
    "\n",
    "plt.subplot(121)\n",
    "plot_stereo(f, [1,np.exp(1j*omega*1/(2*f))])\n",
    "plt.title('time-of-arrival stereophony $ \\phi = \\omega T/2$');\n",
    "\n",
    "\n",
    "plt.subplot(122)\n",
    "plot_stereo(f, [1,1])\n",
    "plt.title('time-of-arrival stereophony $ \\phi = 0$');"
   ]
  },
  {
   "cell_type": "markdown",
   "metadata": {},
   "source": [
    "Wave Field Systhesis: Reason for artifacts: spatial aliasing."
   ]
  },
  {
   "cell_type": "markdown",
   "metadata": {
    "collapsed": true
   },
   "source": [
    "2.5 D: The combination of a 2D secondary source setup with secondary sources that exhibit 3D characteristics has led to naming such configurations 2.5D synthesis. "
   ]
  },
  {
   "cell_type": "markdown",
   "metadata": {},
   "source": [
    "WFS vs. NFC-HOA artifacts: HOA has a circular area (shrinking with higher frequencies) in the center without aliasing, but around that area the artifacts are stronger than in WFS."
   ]
  },
  {
   "cell_type": "markdown",
   "metadata": {},
   "source": [
    "<p xmlns:dct=\"http://purl.org/dc/terms/\">\n",
    "  <a rel=\"license\"\n",
    "     href=\"http://creativecommons.org/publicdomain/zero/1.0/\">\n",
    "    <img src=\"http://i.creativecommons.org/p/zero/1.0/88x31.png\" style=\"border-style: none;\" alt=\"CC0\" />\n",
    "  </a>\n",
    "  <br />\n",
    "  To the extent possible under law,\n",
    "  <span rel=\"dct:publisher\" resource=\"[_:publisher]\">the person who associated CC0</span>\n",
    "  with this work has waived all copyright and related or neighboring\n",
    "  rights to this work.\n",
    "</p>"
   ]
  }
 ],
 "metadata": {
  "kernelspec": {
   "display_name": "Python 3",
   "language": "python",
   "name": "python3"
  },
  "language_info": {
   "codemirror_mode": {
    "name": "ipython",
    "version": 3
   },
   "file_extension": ".py",
   "mimetype": "text/x-python",
   "name": "python",
   "nbconvert_exporter": "python",
   "pygments_lexer": "ipython3",
   "version": "3.6.4"
  }
 },
 "nbformat": 4,
 "nbformat_minor": 1
}
