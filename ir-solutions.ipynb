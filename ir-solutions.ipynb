{
 "cells": [
  {
   "cell_type": "markdown",
   "metadata": {},
   "source": [
    "[exercises](ir.ipynb)"
   ]
  },
  {
   "cell_type": "code",
   "execution_count": null,
   "metadata": {},
   "outputs": [],
   "source": [
    "%matplotlib\n",
    "import matplotlib.pyplot as plt\n",
    "import numpy as np\n",
    "from scipy import signal\n",
    "import soundfile as sf\n",
    "import tools"
   ]
  },
  {
   "cell_type": "code",
   "execution_count": null,
   "metadata": {},
   "outputs": [],
   "source": [
    "sig, fs = sf.read('data/xmas.wav')\n",
    "fs"
   ]
  },
  {
   "cell_type": "code",
   "execution_count": null,
   "metadata": {
    "scrolled": true
   },
   "outputs": [],
   "source": [
    "sig_blackbox = tools.blackbox(sig, fs)"
   ]
  },
  {
   "cell_type": "code",
   "execution_count": null,
   "metadata": {},
   "outputs": [],
   "source": [
    "sf.write('data/xmas_blackbox.wav', sig_blackbox, fs)"
   ]
  },
  {
   "cell_type": "markdown",
   "metadata": {},
   "source": [
    "<audio src=\"data/xmas.wav\" controls>Your browser does not support the audio element.</audio>\n",
    "[data/xmas.wav](data/xmas.wav)\n",
    "\n",
    "<audio src=\"data/xmas_blackbox.wav\" controls>Your browser does not support the audio element.</audio>\n",
    "[data/xmas_blackbox.wav](data/xmas_blackbox.wav)\n",
    "\n",
    "The system is supposed to sound like narrow-band telephony (limited to a frequency range from 300 to 3400 Hz)."
   ]
  },
  {
   "cell_type": "code",
   "execution_count": null,
   "metadata": {
    "collapsed": true
   },
   "outputs": [],
   "source": [
    "dur = 1/10  # seconds\n",
    "imp = np.zeros(np.ceil(dur * fs))\n",
    "imp[0] = 1"
   ]
  },
  {
   "cell_type": "code",
   "execution_count": null,
   "metadata": {
    "collapsed": true
   },
   "outputs": [],
   "source": [
    "ir = tools.blackbox(imp, fs)"
   ]
  },
  {
   "cell_type": "code",
   "execution_count": null,
   "metadata": {},
   "outputs": [],
   "source": [
    "t = np.arange(len(imp)) / fs\n",
    "plt.plot(t, ir)\n",
    "plt.figure()\n",
    "plt.plot(t, tools.db(ir));"
   ]
  },
  {
   "cell_type": "code",
   "execution_count": null,
   "metadata": {},
   "outputs": [],
   "source": [
    "w, h = signal.freqz(ir)\n",
    "plt.figure()\n",
    "plt.plot(w * fs / (2 * np.pi), tools.db(h))  # logarithmic y axis\n",
    "#plt.plot(w * fs / (2 * np.pi), np.abs(h))  # linear y axis\n",
    "plt.xscale('log')"
   ]
  },
  {
   "cell_type": "code",
   "execution_count": null,
   "metadata": {},
   "outputs": [],
   "source": [
    "import numpy as np\n",
    "\n",
    "def naive_convolution(x, h):\n",
    "    \"\"\"Very inefficient convolution of two one-dimensional arrays.\"\"\"\n",
    "    totalsize = len(x) + len(h) - 1\n",
    "    y = np.zeros(totalsize)  # Allocate and initialize memory\n",
    "    for n in range(totalsize):\n",
    "        # m must be within range(len(x)) and it must meet the condition\n",
    "        # n >= m and (n-m) < len(h)\n",
    "        m_start = max(n + 1 - len(h), 0)\n",
    "        m_stop = min(n + 1, len(x))\n",
    "        for m in range(m_start, m_stop):\n",
    "            y[n] += x[m] * h[n - m]\n",
    "    return y"
   ]
  },
  {
   "cell_type": "code",
   "execution_count": null,
   "metadata": {},
   "outputs": [],
   "source": [
    "# This takes a loooong time:\n",
    "#sig_naive = naive_convolution(sig, ir)\n",
    "\n",
    "# Let's just try a tiny bit of the signal:\n",
    "%time sig_naive = naive_convolution(sig[:1000], ir)"
   ]
  },
  {
   "cell_type": "markdown",
   "metadata": {},
   "source": [
    "`len(y) == len(x) + len(h) - 1`\n",
    "\n",
    "The result should obviously be the same (but with `blackbox()` the resulting signal is shorter because the end is cut off)."
   ]
  },
  {
   "cell_type": "markdown",
   "metadata": {
    "collapsed": true
   },
   "source": [
    "Matrix convolution:\n",
    "\n",
    "use numpy.lib.stride_tricks.as_strided() for Toeplitz matrix construction: http://stackoverflow.com/a/21028494/500098"
   ]
  },
  {
   "cell_type": "code",
   "execution_count": null,
   "metadata": {},
   "outputs": [],
   "source": [
    "from numpy.lib.stride_tricks import as_strided\n",
    "\n",
    "def matrix_convolution(x, h):\n",
    "    \"\"\"matrix convolution of an audio signal with the impulse response.\n",
    "\n",
    "    x ... audio signal (array)\n",
    "    h ... impulse response (array)\"\"\"\n",
    "    \n",
    "    total_len = len(x) + len(h) - 1\n",
    "    x_pad = np.pad(x, (0,total_len-len(x)), 'constant')\n",
    "    h_pad = np.pad(h, (0, total_len-len(h)), 'constant')\n",
    "    \n",
    "    h_toeplitz = as_strided(np.r_[h_pad[::-1], np.zeros_like(h_pad)], shape=(h_pad.size,h_pad.size), strides=(h_pad.itemsize, h_pad.itemsize))[:,::-1]\n",
    "    y = x_pad*np.matrix(h_toeplitz)\n",
    "    y = np.squeeze(np.asarray(y))\n",
    "    \n",
    "    return y"
   ]
  },
  {
   "cell_type": "code",
   "execution_count": null,
   "metadata": {},
   "outputs": [],
   "source": [
    "sig_matrix = matrix_convolution(sig[:1000], ir[:1000])"
   ]
  },
  {
   "cell_type": "code",
   "execution_count": null,
   "metadata": {},
   "outputs": [],
   "source": [
    "time = np.arange(len(sig_matrix))/fs\n",
    "plt.plot(time, sig_matrix)\n",
    "plt.title('Matrix convoluted audio signal')\n",
    "plt.xaxis('time in s')"
   ]
  },
  {
   "cell_type": "code",
   "execution_count": null,
   "metadata": {},
   "outputs": [],
   "source": [
    "sd.play(sig_matrix)"
   ]
  },
  {
   "cell_type": "code",
   "execution_count": null,
   "metadata": {
    "collapsed": true
   },
   "outputs": [],
   "source": [
    "# TODO: fast convolution (rfft and fft?)"
   ]
  },
  {
   "cell_type": "markdown",
   "metadata": {
    "collapsed": true
   },
   "source": [
    "Yes, it should indeed be faster. *Very very much* faster!"
   ]
  },
  {
   "cell_type": "code",
   "execution_count": null,
   "metadata": {},
   "outputs": [],
   "source": [
    "%time sig_convolve = np.convolve(sig, ir)"
   ]
  },
  {
   "cell_type": "code",
   "execution_count": null,
   "metadata": {},
   "outputs": [],
   "source": [
    "%time sig_fftconvolve = signal.fftconvolve(sig, ir)"
   ]
  },
  {
   "cell_type": "markdown",
   "metadata": {},
   "source": [
    "Note that with short durations, the result of `%time` isn't really reliable, because the measurement may be influenced by other things going on before and after the actual execution of the function and other processes executed by the operating system at the same time.\n",
    "\n",
    "To get a more reliable estimation, use `%timeit` instead."
   ]
  },
  {
   "cell_type": "code",
   "execution_count": null,
   "metadata": {},
   "outputs": [],
   "source": [
    "# TODO: longer signal for more realistic comparison"
   ]
  },
  {
   "cell_type": "code",
   "execution_count": null,
   "metadata": {
    "collapsed": true
   },
   "outputs": [],
   "source": [
    "sig_blackbox_nonlinear = tools.blackbox_nonlinear(sig, fs)"
   ]
  },
  {
   "cell_type": "code",
   "execution_count": null,
   "metadata": {
    "collapsed": true
   },
   "outputs": [],
   "source": [
    "sf.write('data/xmas_blackbox_nonlinear.wav', sig_blackbox_nonlinear, fs)"
   ]
  },
  {
   "cell_type": "markdown",
   "metadata": {},
   "source": [
    "The non-linear system should sound like a distorted narrow-band telephone."
   ]
  },
  {
   "cell_type": "code",
   "execution_count": null,
   "metadata": {
    "collapsed": true
   },
   "outputs": [],
   "source": [
    "ir_nonlinear = tools.blackbox_nonlinear(imp, fs)"
   ]
  },
  {
   "cell_type": "code",
   "execution_count": null,
   "metadata": {
    "collapsed": true
   },
   "outputs": [],
   "source": [
    "sig_nonlinear_convolve = np.convolve(sig, ir_nonlinear)"
   ]
  },
  {
   "cell_type": "code",
   "execution_count": null,
   "metadata": {},
   "outputs": [],
   "source": [
    "sf.write('data/xmas_convolution_nonlinear.wav', sig_nonlinear_convolve, fs)"
   ]
  },
  {
   "cell_type": "markdown",
   "metadata": {
    "collapsed": true
   },
   "source": [
    "<audio src=\"data/xmas.wav\" controls>Your browser does not support the audio element.</audio>\n",
    "[original](data/xmas.wav)\n",
    "\n",
    "<audio src=\"data/xmas_blackbox.wav\" controls>Your browser does not support the audio element.</audio>\n",
    "[through `tools.blackbox()`](data/xmas_blackbox.wav)\n",
    "\n",
    "<audio src=\"data/xmas_blackbox_nonlinear.wav\" controls>Your browser does not support the audio element.</audio>\n",
    "[through `tools.blackbox_nonlinear()`](data/xmas_blackbox_nonlinear.wav)\n",
    "\n",
    "<audio src=\"data/xmas_convolution_nonlinear.wav\" controls>Your browser does not support the audio element.</audio>\n",
    "[trying to use the impulse response of the non-linear system (doesn't work!)](data/xmas_convolution_nonlinear.wav)\n",
    "\n",
    "The answer to the final question is: No!"
   ]
  },
  {
   "cell_type": "code",
   "execution_count": null,
   "metadata": {
    "collapsed": true
   },
   "outputs": [],
   "source": [
    "sig, fs = sf.read('data/singing.wav')\n",
    "sig_compressed = tools.compressor(sig, threshold=-30, ratio=3, makeup_gain=12)\n",
    "sf.write('data/singing_compressed.wav', sig_compressed, fs)"
   ]
  },
  {
   "cell_type": "code",
   "execution_count": null,
   "metadata": {},
   "outputs": [],
   "source": [
    "time = np.arange(len(sig)) * (1/fs)\n",
    "\n",
    "plt.hold(True)\n",
    "plt.plot(time, sig_compressed)\n",
    "plt.plot(time, sig)\n",
    "plt.xlabel('Time / s')\n",
    "plt.legend(('Compressed', 'Original'))"
   ]
  },
  {
   "cell_type": "markdown",
   "metadata": {},
   "source": [
    "<audio src=\"data/singing.wav\" controls>Your browser does not support the audio element.</audio>\n",
    "[original](data/singing.wav)\n",
    "\n",
    "<audio src=\"data/singing_compressed.wav\" controls>Your browser does not support the audio element.</audio>\n",
    "[through `tools.compressor()`](data/singing_compressed.wav)"
   ]
  },
  {
   "cell_type": "markdown",
   "metadata": {},
   "source": [
    "<p xmlns:dct=\"http://purl.org/dc/terms/\">\n",
    "  <a rel=\"license\"\n",
    "     href=\"http://creativecommons.org/publicdomain/zero/1.0/\">\n",
    "    <img src=\"http://i.creativecommons.org/p/zero/1.0/88x31.png\" style=\"border-style: none;\" alt=\"CC0\" />\n",
    "  </a>\n",
    "  <br />\n",
    "  To the extent possible under law,\n",
    "  <span rel=\"dct:publisher\" resource=\"[_:publisher]\">the person who associated CC0</span>\n",
    "  with this work has waived all copyright and related or neighboring\n",
    "  rights to this work.\n",
    "</p>"
   ]
  }
 ],
 "metadata": {
  "anaconda-cloud": {},
  "kernelspec": {
   "display_name": "Python 3",
   "language": "python",
   "name": "python3"
  },
  "language_info": {
   "codemirror_mode": {
    "name": "ipython",
    "version": 3
   },
   "file_extension": ".py",
   "mimetype": "text/x-python",
   "name": "python",
   "nbconvert_exporter": "python",
   "pygments_lexer": "ipython3",
   "version": "3.6.4"
  }
 },
 "nbformat": 4,
 "nbformat_minor": 1
}
