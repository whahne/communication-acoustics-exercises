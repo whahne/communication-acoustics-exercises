{
 "cells": [
  {
   "cell_type": "markdown",
   "metadata": {},
   "source": [
    "# Communication Acoustics - Exercises\n",
    "\n",
    "This repository holds some Jupyter notebooks (using the IPython kernel) which are part of the course material for the exercises accompanying the lecture \"Acoustics for Communications\" (in German \"Kommunikationsakustik\") at [Institute of Communications Engineering](http://www.int.uni-rostock.de/)/[Faculty of Computer Science and Electrical Engineering](http://www.ief.uni-rostock.de/)/[University of Rostock](http://www.uni-rostock.de/).\n",
    "\n",
    "Registered students can access course details via [StudIP](https://studip.uni-rostock.de/dispatch.php/course/overview?cid=1df474b51c0813ffdeb34be5e66ef960) and [LSF](https://lsf.uni-rostock.de/qisserver/rds?state=verpublish&status=init&vmfile=no&publishid=78325&moduleCall=webInfo&publishConfFile=webInfo&publishSubDir=veranstaltung).\n",
    "\n",
    "The lectures/exercises are held each summer semester, starting in 2015.\n",
    "\n",
    "The notebooks and all additional files should be considered as [Open Educational Resources](https://en.wikipedia.org/wiki/Open_educational_resources)."
   ]
  },
  {
   "cell_type": "markdown",
   "metadata": {},
   "source": [
    "The exercises are split into the following units.\n",
    "Most of them build upon knowledge from previous units, so you should do them in order:\n",
    "\n",
    "1. [Introduction to Python et al., Working with Audio Signals](intro.ipynb)\n",
    "\n",
    "1. [Discrete Fourier Transform](dft.ipynb)\n",
    "\n",
    "1. [Impulse Responses, Convolution](ir.ipynb) & \n",
    "[Excitation Signals](excitation-signal.ipynb)\n",
    "\n",
    "1. [Room Impulse Responses](rir.ipynb)\n",
    "\n",
    "1. [Binaural Room Impulse Responses (BRIRs)](brir.ipynb), part 1\n",
    "\n",
    "1. BRIRs, part 2 (second half of the [previous notebook](brir.ipynb))\n",
    "\n",
    "1. Listening Tests (no notebook available)\n",
    "\n",
    "1. [Binaural Hearing](binaural-hearing.ipynb)\n",
    "\n",
    "1. [Audio Reproduction with Loudspeakers](reproduction.ipynb)\n",
    "\n",
    "1. Loudspeaker Demonstration (no notebook available)\n",
    "\n",
    "1. [Stereophonic Recording Techniques](recording.ipynb)\n",
    "\n",
    "1. Revision (no notebook available)"
   ]
  },
  {
   "cell_type": "markdown",
   "metadata": {},
   "source": [
    "## Getting Started\n",
    "\n",
    "The Jupyter notebooks for each topic are available as [static web pages](https://nbviewer.jupyter.org/github/whahne/communication-acoustics-exercises/) as well as for interactive use with [Jupyter](http://jupyter.org/) (formerly known as [IPython](http://ipython.org/)), to be [downloaded from Github](https://github.com/whahne/communication-acoustics-exercises/tree/studi_master).\n",
    "\n",
    "### Install Python\n",
    "\n",
    "Make sure you always use Python 3!\n",
    "\n",
    "If you don't have Python installed already, you should download and install a Python distribution which already includes all the libraries we'll need, e.g. [Anaconda](https://www.continuum.io/downloads) (make sure to choose Python version 3.x).\n",
    "\n",
    "If you're using Linux (Debian/Ubuntu/...), you can use the following commands to install the necessary packages:\n",
    "\n",
    "    sudo apt-get update\n",
    "    sudo apt-get install python3 python3-pip python3-numpy python3-scipy python3-matplotlib python3-cffi libsndfile1 libportaudio2\n",
    "\n",
    "### Get the Notebooks and Start Jupyter\n",
    "\n",
    "Use [Git](http://git-scm.org/) to download the files and switch to the branch \"studi_master\" (or download the [zip file](https://github.com/whahne/communication-acoustics-exercises/archive/studi_master.zip)), use the Python package management system [pip](http://www.pip-installer.org/) to install a few Python libraries that we will use and then start the Jupyter notebook:\n",
    "\n",
    "    git clone https://github.com/whahne/communication-acoustics-exercises.git\n",
    "    cd communication-acoustics-exercises\n",
    "    git checkout studi_master\n",
    "    python3 -m pip install -r requirements.txt --user\n",
    "    python3 -m notebook\n",
    "    \n",
    "This will open a new view in your web browser with a list of notebooks.\n",
    "Click on [intro.ipynb](intro.ipynb) (or any of the other available notebooks) and enjoy!\n",
    "If you are new to Git, have a look at this [introduction to Git](http://mg.rtfd.org/git.html).\n",
    "\n",
    "Alternatively, you can also download individual notebook files (with the extension `.ipynb`) and open them in IPython.\n",
    "Note that some exercises make use of additional files (audio files etc.) which you'll then also have to download manually.\n",
    "\n"
   ]
  },
  {
   "cell_type": "markdown",
   "metadata": {},
   "source": [
    "## Interactive Online Version\n",
    "\n",
    "If you don't feel like installing Jupyter/IPython, but still want to try out the notebooks, you can [![Binder](http://mybinder.org/badge.svg)](http://mybinder.org/repo/spatialaudio/communication-acoustics-exercises) and start playing around immediately.\n",
    "\n",
    "Note, however, that your changes will not be preserved.\n",
    "Once you close your browser, everything will be lost!"
   ]
  },
  {
   "cell_type": "markdown",
   "metadata": {},
   "source": [
    "## External Links\n",
    "\n",
    "At Aalto University, Ville Pulkki gives a lecture called \"Communication Acoustics\" which is also available as a book (ISBN: 978-1-118-86654-2).\n",
    "The lecture slides and some other materials including audio examples are available at http://users.aalto.fi/~vpulkki/Communication_Acoustics/.\n",
    "\n",
    "Coursera.org offers a free online course with video lectures called [Audio Signal Processing for Music Applications](https://www.coursera.org/course/audio), which is taught by Xavier Serra and Julius O Smith, III.\n",
    "The topic is not quite the same, but the introductory units are similar and they are using Python, too!"
   ]
  },
  {
   "cell_type": "markdown",
   "metadata": {},
   "source": [
    "## Copyright Information\n",
    "\n",
    "<p xmlns:dct=\"http://purl.org/dc/terms/\">\n",
    "  <a rel=\"license\"\n",
    "     href=\"http://creativecommons.org/publicdomain/zero/1.0/\">\n",
    "    <img src=\"http://i.creativecommons.org/p/zero/1.0/88x31.png\" style=\"border-style: none;\" alt=\"CC0\" />\n",
    "  </a>\n",
    "  <br />\n",
    "  To the extent possible under law,\n",
    "  <span rel=\"dct:publisher\" resource=\"[_:publisher]\">the person who associated CC0</span>\n",
    "  with this work has waived all copyright and related or neighboring\n",
    "  rights to this work.\n",
    "</p>"
   ]
  }
 ],
 "metadata": {
  "kernelspec": {
   "display_name": "Python 3",
   "language": "python",
   "name": "python3"
  },
  "language_info": {
   "codemirror_mode": {
    "name": "ipython",
    "version": 3
   },
   "file_extension": ".py",
   "mimetype": "text/x-python",
   "name": "python",
   "nbconvert_exporter": "python",
   "pygments_lexer": "ipython3",
   "version": "3.6.4"
  }
 },
 "nbformat": 4,
 "nbformat_minor": 1
}
